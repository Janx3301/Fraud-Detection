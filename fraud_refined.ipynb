{
 "cells": [
  {
   "cell_type": "code",
   "execution_count": 2,
   "id": "a1eba7a0",
   "metadata": {},
   "outputs": [],
   "source": [
    "\n",
    "from sklearn.preprocessing import StandardScaler\n",
    "from sklearn.tree import DecisionTreeClassifier\n",
    "import pandas as pd\n",
    "import numpy as np\n",
    "import matplotlib.pyplot as plt\n",
    "from sklearn.preprocessing import OrdinalEncoder\n",
    "import seaborn as sns\n",
    "from sklearn.metrics import confusion_matrix, recall_score, precision_score, f1_score, accuracy_score\n",
    "from scipy.stats import ttest_ind\n",
    "from sklearn.preprocessing import StandardScaler\n",
    "from sklearn.model_selection import train_test_split\n",
    "from math import radians, sin, cos, sqrt, atan2\n",
    "from imblearn.under_sampling import RandomUnderSampler\n",
    "from sklearn.ensemble import RandomForestClassifier\n",
    "from sklearn.metrics import f1_score\n",
    "from sklearn import metrics\n",
    "import warnings\n",
    "warnings.filterwarnings(\"ignore\")\n",
    "pd.set_option('display.max_columns', None)\n",
    "sns.set(font_scale=1.3)"
   ]
  },
  {
   "cell_type": "code",
   "execution_count": 3,
   "id": "a00718d1",
   "metadata": {},
   "outputs": [],
   "source": [
    "train = pd.read_csv('Part-1.csv').drop('Unnamed: 0', axis=1)\n",
    "test = pd.read_csv('Part-2.csv').drop('Unnamed: 0', axis=1)"
   ]
  },
  {
   "cell_type": "code",
   "execution_count": 4,
   "id": "1ffd919e",
   "metadata": {},
   "outputs": [],
   "source": [
    "data = pd.concat([train, test]).reset_index().drop('index', axis=1)\n",
    "del train\n",
    "del test"
   ]
  },
  {
   "cell_type": "code",
   "execution_count": 5,
   "id": "17b8bb16",
   "metadata": {},
   "outputs": [],
   "source": [
    "data['full_name'] = data['first'] + ' ' + data['last']\n",
    "data.drop(['first', 'last', 'trans_num', 'unix_time'], axis=1, inplace=True)\n",
    "data['trans_date_trans_time'] = pd.to_datetime(data['trans_date_trans_time'])\n",
    "data['year'] = data['trans_date_trans_time'].dt.year\n",
    "data['month'] = data['trans_date_trans_time'].dt.month\n",
    "data['day'] = data['trans_date_trans_time'].dt.day\n",
    "data['hour'] = data['trans_date_trans_time'].dt.hour\n",
    "data['day_of_week'] = data['trans_date_trans_time'].dt.day_name()\n",
    "data['is_weekend'] = (data['trans_date_trans_time'].dt.weekday // 5).map({0: 'No', 1: 'Yes'})\n",
    "months = ['Jan', 'Feb', 'Mar', 'Apr', 'May', 'Jun', 'Jul', 'Aug', 'Sep', 'Oct', 'Nov', 'Dec']\n",
    "data['month'] = data['month'].apply(lambda x: months[x - 1])\n",
    "def get_credit_card_type(card_number):\n",
    "    card_number = str(card_number)\n",
    "    if card_number[0] == '4':\n",
    "        return 'Visa'\n",
    "    elif card_number[0] == '5' or card_number[0] == '2':\n",
    "        return 'MasterCard'\n",
    "    elif card_number[0] == '3':\n",
    "        return 'American Express'\n",
    "    elif card_number[0] == '6':\n",
    "        return 'Discover'\n",
    "    else:\n",
    "        return 'Unknown'\n",
    "data['cc_type'] = data['cc_num'].apply(get_credit_card_type)\n",
    "freq = data['cc_num'].value_counts()\n",
    "data['category'] = data['category'].apply(lambda x: x.title().replace('_', ' '))\n",
    "data['gender'] = data['gender'].map({'F': 'Female', 'M': 'Male'})\n",
    "data['address'] = data['street'] + ', ' + data['city'] + ', ' + data['state'] + ' ' + data['zip'].apply(str)\n",
    "def haversine(lat1, lon1, lat2, lon2):\n",
    "    # Radius of the Earth in kilometers\n",
    "    R = 6371\n",
    "    dlat = radians(lat2 - lat1)\n",
    "    dlon = radians(lon2 - lon1)\n",
    "    a = sin(dlat / 2) ** 2 + cos(radians(lat1)) * cos(radians(lat2)) * sin(dlon / 2) ** 2\n",
    "    distance = 2 * R * atan2(sqrt(a), sqrt(1 - a))\n",
    "    return distance\n",
    "data['distance'] = data.apply(lambda row: haversine(row['lat'], row['long'], row['merch_lat'], row['merch_long']), axis=1)\n",
    "data.drop(['lat', 'long', 'merch_lat', 'merch_long'], axis=1, inplace=True)\n",
    "data['dob'] = pd.to_datetime(data['dob'])\n",
    "data['age'] = np.ceil((data['trans_date_trans_time'] - data['dob']).dt.days / 365).astype(int)\n",
    "data.drop('trans_date_trans_time', axis=1, inplace=True)\n",
    "data.drop('dob', axis=1, inplace=True)\n",
    "def age_interval(age):\n",
    "    if 14 <= age < 30:\n",
    "        return '14 to 30'\n",
    "    elif 30 <= age < 45:\n",
    "        return '30 to 45'\n",
    "    elif 45 <= age < 60:\n",
    "        return '45 to 60'\n",
    "    elif 60 <= age < 75:\n",
    "        return '60 to 75'\n",
    "    else:\n",
    "        return 'Older than 75'\n",
    "    \n",
    "data['age_interval'] = data['age'].apply(age_interval)\n",
    "data.drop(['cc_num', 'merchant', 'street', 'city', 'state', 'zip', 'year'], axis=1, inplace=True)\n",
    "data['gender'] = data['gender'].map({'Female': 0, 'Male': 1})\n",
    "data['is_weekend'] = data['is_weekend'].map({'No': 0, 'Yes': 1})\n",
    "skewed = ['amt', 'city_pop']\n",
    "data[skewed] = data[skewed].apply(np.log1p)\n",
    "oe = OrdinalEncoder()\n",
    "columns_to_encode = ['category', 'job', 'address', 'month', 'day_of_week', 'cc_type', 'full_name', 'age_interval']\n",
    "data[columns_to_encode] = oe.fit_transform(data[columns_to_encode])\n"
   ]
  },
  {
   "cell_type": "code",
   "execution_count": null,
   "id": "eb892b6f",
   "metadata": {},
   "outputs": [],
   "source": [
    "# Save the OrdinalEncoder model\n",
    "import joblib\n",
    "joblib.dump(oe, 'encodermodel.joblib')"
   ]
  },
  {
   "cell_type": "code",
   "execution_count": 6,
   "id": "bf5f9c64",
   "metadata": {},
   "outputs": [],
   "source": [
    "X = data.drop('is_fraud', axis=1)\n",
    "y = data['is_fraud']\n",
    "X_train, X_test, y_train, y_test = train_test_split(X, y, test_size=0.2)"
   ]
  },
  {
   "cell_type": "code",
   "execution_count": 7,
   "id": "dac35f4a",
   "metadata": {},
   "outputs": [],
   "source": [
    "def train_rf(X_train, y_train, X_test, y_test):\n",
    "    rf = RandomForestClassifier(max_depth=12, n_estimators=100, random_state=234)\n",
    "    rf.fit(X_train, y_train)\n",
    "    y_pred = rf.predict(X_test)\n",
    "    recall = recall_score(y_test, y_pred)\n",
    "    precision = precision_score(y_test, y_pred)\n",
    "    f1 = f1_score(y_test, y_pred)\n",
    "    accuracy = accuracy_score(y_test, y_pred)\n",
    "    return rf,[accuracy, recall, precision, f1]"
   ]
  },
  {
   "cell_type": "code",
   "execution_count": 8,
   "id": "1fbe37bb",
   "metadata": {},
   "outputs": [],
   "source": [
    "rus = RandomUnderSampler(sampling_strategy=0.1, random_state=19)\n",
    "X_undersampled, y_undersampled = rus.fit_resample(X_train, y_train)"
   ]
  },
  {
   "cell_type": "code",
   "execution_count": 9,
   "id": "b878e6ce",
   "metadata": {},
   "outputs": [
    {
     "data": {
      "text/plain": [
       "[0.9970848550120249, 0.8517169614984391, 0.673108552631579, 0.7519522278364722]"
      ]
     },
     "execution_count": 9,
     "metadata": {},
     "output_type": "execute_result"
    }
   ],
   "source": [
    "rf,result1 = train_rf(X_undersampled, y_undersampled, X_test, y_test)\n",
    "result1"
   ]
  },
  {
   "cell_type": "code",
   "execution_count": 10,
   "id": "cfb9e5f1",
   "metadata": {},
   "outputs": [],
   "source": [
    "importances = rf.feature_importances_"
   ]
  },
  {
   "cell_type": "code",
   "execution_count": 11,
   "id": "a63edb6d",
   "metadata": {},
   "outputs": [
    {
     "data": {
      "image/png": "[encoded data removed]",
      "text/plain": [
       "<Figure size 1200x500 with 1 Axes>"
      ]
     },
     "metadata": {},
     "output_type": "display_data"
    }
   ],
   "source": [
    "forest_importances = pd.Series(importances, index=X_train.columns)\n",
    "fig, ax = plt.subplots(figsize=(12, 5))\n",
    "forest_importances.sort_values(ascending=False).plot.bar(ax=ax)\n",
    "ax.set_ylabel(\"Feature Importance\")\n",
    "plt.show()"
   ]
  },
  {
   "cell_type": "code",
   "execution_count": 12,
   "id": "715e1600",
   "metadata": {},
   "outputs": [],
   "source": [
    "less_info = ['is_weekend', 'cc_type', 'gender', 'day_of_week']"
   ]
  },
  {
   "cell_type": "code",
   "execution_count": 13,
   "id": "e1bf1b4f",
   "metadata": {},
   "outputs": [],
   "source": [
    "X_undersampled.drop(less_info, axis=1, inplace=True)\n",
    "X_test.drop(less_info, axis=1, inplace=True)"
   ]
  },
  {
   "cell_type": "code",
   "execution_count": 14,
   "id": "41aceaf6",
   "metadata": {},
   "outputs": [],
   "source": [
    "models_results = pd.DataFrame(columns=['Recall', 'Precision', 'F1', 'AUC'])"
   ]
  },
  {
   "cell_type": "code",
   "execution_count": 15,
   "id": "66250ba1",
   "metadata": {},
   "outputs": [],
   "source": [
    "def evaluate_model(target, predicted, y_score, can_auc=True):\n",
    "    accuracy = accuracy_score(target, predicted)\n",
    "    precision = precision_score(target, predicted)\n",
    "    recall = recall_score(target, predicted)\n",
    "    f1 = f1_score(target, predicted)\n",
    "\n",
    "    auc = np.NaN\n",
    "    if can_auc:\n",
    "        auc = metrics.roc_auc_score(target, y_score)\n",
    "\n",
    "    print('Accuracy:', round(accuracy, 2))\n",
    "    print('Precision:', round(precision, 2))\n",
    "    print('Recall:', round(recall, 2))\n",
    "    print('F1 Score:', round(f1, 2))\n",
    "    print('AUC:', auc)\n",
    "\n",
    "    return [round(recall, 2), round(precision, 2), round(f1, 2), auc]\n"
   ]
  },
  {
   "cell_type": "code",
   "execution_count": 16,
   "id": "9ffcfb53",
   "metadata": {},
   "outputs": [],
   "source": [
    "def train_model(model, X_train, y_train, X_test, y_test, auc_plot=True, scale=True):\n",
    "    if scale:\n",
    "        ss = StandardScaler()\n",
    "        X_train = ss.fit_transform(X_train)\n",
    "        X_test = ss.fit_transform(X_test)\n",
    "    \n",
    "    model.fit(X_train, y_train)\n",
    "    \n",
    "    y_pred_train = model.predict(X_train)\n",
    "    y_pred_test = model.predict(X_test)\n",
    "    \n",
    "    y_score_train = np.NaN\n",
    "    y_score_test = np.NaN\n",
    "    if auc_plot:\n",
    "        y_score_train = model.predict_proba(X_train)[:, 1]\n",
    "        y_score_test = model.predict_proba(X_test)[:, 1]\n",
    "    \n",
    "    print('-------------- Training Evaluation --------------')\n",
    "    models_results.loc[type(model).__name__ + ' Trainig'] = evaluate_model(y_train, y_pred_train,\n",
    "                                                                           y_score_train, can_auc=auc_plot)\n",
    "    print('--------------         END         --------------')\n",
    "    print()\n",
    "    print()\n",
    "    print('-------------- Testing Evaluation --------------')\n",
    "    models_results.loc[type(model).__name__ + ' Testing'] = evaluate_model(y_test, y_pred_test,\n",
    "                                                                           y_score_test, can_auc=auc_plot)\n",
    "    print('--------------         END         --------------')"
   ]
  },
  {
   "cell_type": "code",
   "execution_count": 17,
   "id": "0709eb8c",
   "metadata": {},
   "outputs": [
    {
     "name": "stdout",
     "output_type": "stream",
     "text": [
      "Results with Custom Threshold:\n",
      "Precision: 0.8345205479452055\n",
      "Recall: 0.7924037460978148\n",
      "F1 Score: 0.8129170002668802\n",
      "AUC Score: 0.9948531096232416\n"
     ]
    }
   ],
   "source": [
    "\n",
    "from sklearn.metrics import  roc_auc_score\n",
    "\n",
    "def train_rf(X_train, y_train, X_test, y_test, threshold=0.5):\n",
    "    rf = RandomForestClassifier(max_depth=12, n_estimators=100, random_state=234)\n",
    "    rf.fit(X_train, y_train)\n",
    "    \n",
    "    # Obtain predicted probabilities\n",
    "    y_pred_proba = rf.predict_proba(X_test)[:, 1]\n",
    "    \n",
    "    # Adjust classification based on the threshold\n",
    "    y_pred = (y_pred_proba >= threshold).astype(int)\n",
    "    \n",
    "    recall = recall_score(y_test, y_pred)\n",
    "    precision = precision_score(y_test, y_pred)\n",
    "    f1 = f1_score(y_test, y_pred)\n",
    "    accuracy = accuracy_score(y_test, y_pred)\n",
    "    auc = roc_auc_score(y_test, y_pred_proba)  # Calculate AUC score\n",
    "    \n",
    "    return rf, [accuracy, recall, precision, f1, auc], y_pred_proba\n",
    "\n",
    "# Train the RF model with the modified function\n",
    "rf, result1, y_pred_proba = train_rf(X_undersampled, y_undersampled, X_test, y_test)\n",
    "\n",
    "# Choose a threshold based on your preference (e.g., maximizing precision)\n",
    "custom_threshold = 0.7  # Adjust this value as needed\n",
    "\n",
    "# Classify instances based on the chosen threshold\n",
    "y_pred_custom_threshold = (y_pred_proba >= custom_threshold).astype(int)\n",
    "\n",
    "# Evaluate the performance with the new threshold\n",
    "precision_custom_threshold = precision_score(y_test, y_pred_custom_threshold)\n",
    "recall_custom_threshold = recall_score(y_test, y_pred_custom_threshold)\n",
    "f1_custom_threshold = f1_score(y_test, y_pred_custom_threshold)\n",
    "auc_custom_threshold = roc_auc_score(y_test, y_pred_proba)\n",
    "\n",
    "print(\"Results with Custom Threshold:\")\n",
    "print(\"Precision:\", precision_custom_threshold)\n",
    "print(\"Recall:\", recall_custom_threshold)\n",
    "print(\"F1 Score:\", f1_custom_threshold)\n",
    "print(\"AUC Score:\", auc_custom_threshold)\n",
    "\n",
    "# Update models_results with the results using the custom threshold\n",
    "models_results.loc['CustomThreshold_RF Testing'] = [recall_custom_threshold, precision_custom_threshold, f1_custom_threshold, auc_custom_threshold]\n"
   ]
  },
  {
   "cell_type": "code",
   "execution_count": 18,
   "id": "20cd7f26",
   "metadata": {},
   "outputs": [
    {
     "name": "stdout",
     "output_type": "stream",
     "text": [
      "-------------- Training Evaluation --------------\n",
      "Accuracy: 1.0\n",
      "Precision: 1.0\n",
      "Recall: 1.0\n",
      "F1 Score: 1.0\n",
      "AUC: 1.0\n",
      "--------------         END         --------------\n",
      "\n",
      "\n",
      "-------------- Testing Evaluation --------------\n",
      "Accuracy: 0.99\n",
      "Precision: 0.33\n",
      "Recall: 0.92\n",
      "F1 Score: 0.48\n",
      "AUC: 0.9557988172603643\n",
      "--------------         END         --------------\n"
     ]
    }
   ],
   "source": [
    "dtree = DecisionTreeClassifier(random_state=2020)\n",
    "train_model(dtree, X_undersampled, y_undersampled, X_test, y_test, scale=False)"
   ]
  },
  {
   "cell_type": "code",
   "execution_count": 32,
   "id": "3c068c8b",
   "metadata": {},
   "outputs": [
    {
     "name": "stdout",
     "output_type": "stream",
     "text": [
      "-------------- Training Evaluation --------------\n",
      "Accuracy: 1.0\n",
      "Precision: 1.0\n",
      "Recall: 0.96\n",
      "F1 Score: 0.98\n",
      "AUC: 0.9999673404155359\n",
      "--------------         END         --------------\n",
      "\n",
      "\n",
      "-------------- Testing Evaluation --------------\n",
      "Accuracy: 1.0\n",
      "Precision: 0.61\n",
      "Recall: 0.9\n",
      "F1 Score: 0.73\n",
      "AUC: 0.9952681518049198\n",
      "--------------         END         --------------\n"
     ]
    }
   ],
   "source": [
    "from sklearn.ensemble import VotingClassifier\n",
    "\n",
    "\n",
    "# Create the ensemble classifier with weights\n",
    "ensemble_clf = VotingClassifier(estimators=[\n",
    "    ('RandomForest', rf),\n",
    "    ('DecisionTree', dtree)\n",
    "], voting='soft', weights=[2.9,1])\n",
    "\n",
    "# Train the ensemble model\n",
    "train_model(ensemble_clf, X_undersampled, y_undersampled, X_test, y_test, scale=False)\n"
   ]
  },
  {
   "cell_type": "code",
   "execution_count": 33,
   "id": "4d858e85",
   "metadata": {},
   "outputs": [
    {
     "data": {
      "text/html": [
       "<div>\n",
       "<style scoped>\n",
       "    .dataframe tbody tr th:only-of-type {\n",
       "        vertical-align: middle;\n",
       "    }\n",
       "\n",
       "    .dataframe tbody tr th {\n",
       "        vertical-align: top;\n",
       "    }\n",
       "\n",
       "    .dataframe thead th {\n",
       "        text-align: right;\n",
       "    }\n",
       "</style>\n",
       "<table border=\"1\" class=\"dataframe\">\n",
       "  <thead>\n",
       "    <tr style=\"text-align: right;\">\n",
       "      <th></th>\n",
       "      <th>Recall</th>\n",
       "      <th>Precision</th>\n",
       "      <th>F1</th>\n",
       "      <th>AUC</th>\n",
       "    </tr>\n",
       "  </thead>\n",
       "  <tbody>\n",
       "    <tr>\n",
       "      <th>CustomThreshold_RF Testing</th>\n",
       "      <td>0.792404</td>\n",
       "      <td>0.834521</td>\n",
       "      <td>0.812917</td>\n",
       "      <td>0.994853</td>\n",
       "    </tr>\n",
       "    <tr>\n",
       "      <th>DecisionTreeClassifier Testing</th>\n",
       "      <td>0.920000</td>\n",
       "      <td>0.330000</td>\n",
       "      <td>0.480000</td>\n",
       "      <td>0.955799</td>\n",
       "    </tr>\n",
       "    <tr>\n",
       "      <th>VotingClassifier Testing</th>\n",
       "      <td>0.900000</td>\n",
       "      <td>0.610000</td>\n",
       "      <td>0.730000</td>\n",
       "      <td>0.995268</td>\n",
       "    </tr>\n",
       "  </tbody>\n",
       "</table>\n",
       "</div>"
      ],
      "text/plain": [
       "                                  Recall  Precision        F1       AUC\n",
       "CustomThreshold_RF Testing      0.792404   0.834521  0.812917  0.994853\n",
       "DecisionTreeClassifier Testing  0.920000   0.330000  0.480000  0.955799\n",
       "VotingClassifier Testing        0.900000   0.610000  0.730000  0.995268"
      ]
     },
     "execution_count": 33,
     "metadata": {},
     "output_type": "execute_result"
    }
   ],
   "source": [
    "tests = models_results[models_results.index.str.contains('Testing')]\n",
    "tests"
   ]
  },
  {
   "cell_type": "code",
   "execution_count": 21,
   "id": "69f8e08d",
   "metadata": {},
   "outputs": [
    {
     "data": {
      "text/plain": [
       "['ensemble_model.pkl']"
      ]
     },
     "execution_count": 21,
     "metadata": {},
     "output_type": "execute_result"
    }
   ],
   "source": [
    "import joblib\n",
    "# Save the ensemble model to a .pkl file\n",
    "model_filename = 'ensemble_model.pkl'\n",
    "joblib.dump(ensemble_clf, model_filename)"
   ]
  }
 ],
 "metadata": {
  "accelerator": "GPU",
  "colab": {
   "gpuType": "T4",
   "provenance": []
  },
  "kernelspec": {
   "display_name": "Python 3 (ipykernel)",
   "language": "python",
   "name": "python3"
  },
  "language_info": {
   "codemirror_mode": {
    "name": "ipython",
    "version": 3
   },
   "file_extension": ".py",
   "mimetype": "text/x-python",
   "name": "python",
   "nbconvert_exporter": "python",
   "pygments_lexer": "ipython3",
   "version": "3.12.1"
  }
 },
 "nbformat": 4,
 "nbformat_minor": 5
}
